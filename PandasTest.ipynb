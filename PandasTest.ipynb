{
  "nbformat": 4,
  "nbformat_minor": 0,
  "metadata": {
    "colab": {
      "provenance": [],
      "authorship_tag": "ABX9TyMinEM3aprp9sLO5Fc1/PXz",
      "include_colab_link": true
    },
    "kernelspec": {
      "name": "python3",
      "display_name": "Python 3"
    },
    "language_info": {
      "name": "python"
    }
  },
  "cells": [
    {
      "cell_type": "markdown",
      "metadata": {
        "id": "view-in-github",
        "colab_type": "text"
      },
      "source": [
        "<a href=\"https://colab.research.google.com/github/CashaEl/ocean/blob/main/PandasTest.ipynb\" target=\"_parent\"><img src=\"https://colab.research.google.com/assets/colab-badge.svg\" alt=\"Open In Colab\"/></a>"
      ]
    },
    {
      "cell_type": "code",
      "execution_count": 2,
      "metadata": {
        "colab": {
          "base_uri": "https://localhost:8080/"
        },
        "id": "mFntcMt8PqrL",
        "outputId": "bba58822-6618-4830-d944-7c3208522e5d"
      },
      "outputs": [
        {
          "output_type": "stream",
          "name": "stdout",
          "text": [
            "   Name  Age      City\n",
            "0  Jone   25  New York\n",
            "1  Jane   30    London\n",
            "2   Bob   35     Paris\n"
          ]
        }
      ],
      "source": [
        "import pandas as pd\n",
        "\n",
        "data = {\n",
        "    \"Name\": [\"Jone\", \"Jane\", \"Bob\"],\n",
        "    \"Age\": [25, 30, 35],\n",
        "    \"City\": [\"New York\", \"London\", \"Paris\"]\n",
        "}\n",
        "\n",
        "df = pd.DataFrame(data)\n",
        "print(df)\n"
      ]
    },
    {
      "cell_type": "code",
      "source": [
        "import pandas as pd\n",
        "\n",
        "df = pd.read_csv(\"sample_data/california_housing_test.csv\")\n",
        "print(df.head())"
      ],
      "metadata": {
        "colab": {
          "base_uri": "https://localhost:8080/"
        },
        "id": "p0MYOtfaXB2e",
        "outputId": "ce607dde-d23a-4f87-d12c-47b481ce4ddd"
      },
      "execution_count": 3,
      "outputs": [
        {
          "output_type": "stream",
          "name": "stdout",
          "text": [
            "   longitude  latitude  housing_median_age  total_rooms  total_bedrooms  \\\n",
            "0    -122.05     37.37                27.0       3885.0           661.0   \n",
            "1    -118.30     34.26                43.0       1510.0           310.0   \n",
            "2    -117.81     33.78                27.0       3589.0           507.0   \n",
            "3    -118.36     33.82                28.0         67.0            15.0   \n",
            "4    -119.67     36.33                19.0       1241.0           244.0   \n",
            "\n",
            "   population  households  median_income  median_house_value  \n",
            "0      1537.0       606.0         6.6085            344700.0  \n",
            "1       809.0       277.0         3.5990            176500.0  \n",
            "2      1484.0       495.0         5.7934            270500.0  \n",
            "3        49.0        11.0         6.1359            330000.0  \n",
            "4       850.0       237.0         2.9375             81700.0  \n"
          ]
        }
      ]
    },
    {
      "cell_type": "code",
      "source": [
        "median_income = df[\"median_income\"]\n",
        "print(median_income.head())"
      ],
      "metadata": {
        "colab": {
          "base_uri": "https://localhost:8080/"
        },
        "id": "R4KaLBDicBXJ",
        "outputId": "3f4bedfa-be20-46f4-9d5d-218e826c31c6"
      },
      "execution_count": 4,
      "outputs": [
        {
          "output_type": "stream",
          "name": "stdout",
          "text": [
            "0    6.6085\n",
            "1    3.5990\n",
            "2    5.7934\n",
            "3    6.1359\n",
            "4    2.9375\n",
            "Name: median_income, dtype: float64\n"
          ]
        }
      ]
    },
    {
      "cell_type": "code",
      "source": [
        "specials = df.loc[[36,49], 'median_income']\n",
        "print(specials)"
      ],
      "metadata": {
        "colab": {
          "base_uri": "https://localhost:8080/"
        },
        "id": "-JXuL61Vdz_f",
        "outputId": "5b079196-f309-484c-b6fd-36f0a42664b5"
      },
      "execution_count": 5,
      "outputs": [
        {
          "output_type": "stream",
          "name": "stdout",
          "text": [
            "36    2.5125\n",
            "49    3.1049\n",
            "Name: median_income, dtype: float64\n"
          ]
        }
      ]
    },
    {
      "cell_type": "code",
      "source": [
        "high_income = df[df[\"median_income\"] >= 4]\n",
        "print(high_income)\n",
        "\n",
        "high_income_value = df.loc[df['median_income'] >= 4, 'median_house_value']\n",
        "print(high_income_value)\n",
        "\n",
        "\n",
        "print(df[\"median_income\"] >=4)\n",
        "\n"
      ],
      "metadata": {
        "colab": {
          "base_uri": "https://localhost:8080/"
        },
        "id": "Y5QzOlUDediP",
        "outputId": "ed2cba1b-8b00-4163-e39a-58f4656c4448"
      },
      "execution_count": 6,
      "outputs": [
        {
          "output_type": "stream",
          "name": "stdout",
          "text": [
            "      longitude  latitude  housing_median_age  total_rooms  total_bedrooms  \\\n",
            "0       -122.05     37.37                27.0       3885.0           661.0   \n",
            "2       -117.81     33.78                27.0       3589.0           507.0   \n",
            "3       -118.36     33.82                28.0         67.0            15.0   \n",
            "12      -121.93     37.25                36.0       1089.0           182.0   \n",
            "13      -117.03     32.97                16.0       3936.0           694.0   \n",
            "...         ...       ...                 ...          ...             ...   \n",
            "2991    -117.17     34.28                13.0       4867.0           718.0   \n",
            "2992    -122.33     37.39                52.0        573.0           102.0   \n",
            "2993    -117.91     33.60                37.0       2088.0           510.0   \n",
            "2994    -117.93     33.86                35.0        931.0           181.0   \n",
            "2999    -119.63     34.42                42.0       1765.0           263.0   \n",
            "\n",
            "      population  households  median_income  median_house_value  \n",
            "0         1537.0       606.0         6.6085            344700.0  \n",
            "2         1484.0       495.0         5.7934            270500.0  \n",
            "3           49.0        11.0         6.1359            330000.0  \n",
            "12         535.0       170.0         4.6900            252600.0  \n",
            "13        1935.0       659.0         4.5625            231200.0  \n",
            "...          ...         ...            ...                 ...  \n",
            "2991       780.0       250.0         7.1997            253800.0  \n",
            "2992       232.0        92.0         6.2263            500001.0  \n",
            "2993       673.0       390.0         5.1048            500001.0  \n",
            "2994       516.0       174.0         5.5867            182500.0  \n",
            "2999       753.0       260.0         8.5608            500001.0  \n",
            "\n",
            "[1159 rows x 9 columns]\n",
            "0       344700.0\n",
            "2       270500.0\n",
            "3       330000.0\n",
            "12      252600.0\n",
            "13      231200.0\n",
            "          ...   \n",
            "2991    253800.0\n",
            "2992    500001.0\n",
            "2993    500001.0\n",
            "2994    182500.0\n",
            "2999    500001.0\n",
            "Name: median_house_value, Length: 1159, dtype: float64\n",
            "0        True\n",
            "1       False\n",
            "2        True\n",
            "3        True\n",
            "4       False\n",
            "        ...  \n",
            "2995    False\n",
            "2996    False\n",
            "2997    False\n",
            "2998    False\n",
            "2999     True\n",
            "Name: median_income, Length: 3000, dtype: bool\n"
          ]
        }
      ]
    },
    {
      "cell_type": "code",
      "source": [
        "df.loc[(df[\"longitude\"] >= -118) & (df[\"latitude\"]>=34)]\n",
        "#print(df[\"median_income\"] >= 4) & (df[\"median_house_value\"]>=250)"
      ],
      "metadata": {
        "colab": {
          "base_uri": "https://localhost:8080/",
          "height": 444
        },
        "id": "hEA4VTdisg7I",
        "outputId": "7c292e0c-4469-4cdf-dba6-3bfa76dfd152"
      },
      "execution_count": 7,
      "outputs": [
        {
          "output_type": "execute_result",
          "data": {
            "text/plain": [
              "      longitude  latitude  housing_median_age  total_rooms  total_bedrooms  \\\n",
              "43      -117.27     34.09                36.0        848.0           186.0   \n",
              "54      -117.90     34.09                39.0       1726.0           333.0   \n",
              "68      -117.46     34.08                18.0       3830.0           750.0   \n",
              "129     -117.19     34.03                25.0       2513.0           340.0   \n",
              "140     -117.39     34.10                12.0       7184.0          1516.0   \n",
              "...         ...       ...                 ...          ...             ...   \n",
              "2914    -117.06     34.87                14.0       3348.0           619.0   \n",
              "2935    -117.97     34.05                33.0       1452.0           268.0   \n",
              "2979    -117.91     34.09                20.0       4327.0          1037.0   \n",
              "2991    -117.17     34.28                13.0       4867.0           718.0   \n",
              "2998    -117.12     34.10                40.0         96.0            14.0   \n",
              "\n",
              "      population  households  median_income  median_house_value  \n",
              "43         737.0       169.0         0.9838             79300.0  \n",
              "54         892.0       335.0         4.3409            191800.0  \n",
              "68        2767.0       702.0         3.6602            120700.0  \n",
              "129        900.0       320.0         6.4962            182400.0  \n",
              "140       4862.0      1235.0         2.4492            103800.0  \n",
              "...          ...         ...            ...                 ...  \n",
              "2914      1756.0       557.0         3.5987             91400.0  \n",
              "2935      1274.0       278.0         3.6563            162700.0  \n",
              "2979      2296.0       963.0         3.0441            185400.0  \n",
              "2991       780.0       250.0         7.1997            253800.0  \n",
              "2998        46.0        14.0         3.2708            162500.0  \n",
              "\n",
              "[182 rows x 9 columns]"
            ],
            "text/html": [
              "\n",
              "  <div id=\"df-9c4ae29d-7687-4fc6-aab0-64bfbff95a23\" class=\"colab-df-container\">\n",
              "    <div>\n",
              "<style scoped>\n",
              "    .dataframe tbody tr th:only-of-type {\n",
              "        vertical-align: middle;\n",
              "    }\n",
              "\n",
              "    .dataframe tbody tr th {\n",
              "        vertical-align: top;\n",
              "    }\n",
              "\n",
              "    .dataframe thead th {\n",
              "        text-align: right;\n",
              "    }\n",
              "</style>\n",
              "<table border=\"1\" class=\"dataframe\">\n",
              "  <thead>\n",
              "    <tr style=\"text-align: right;\">\n",
              "      <th></th>\n",
              "      <th>longitude</th>\n",
              "      <th>latitude</th>\n",
              "      <th>housing_median_age</th>\n",
              "      <th>total_rooms</th>\n",
              "      <th>total_bedrooms</th>\n",
              "      <th>population</th>\n",
              "      <th>households</th>\n",
              "      <th>median_income</th>\n",
              "      <th>median_house_value</th>\n",
              "    </tr>\n",
              "  </thead>\n",
              "  <tbody>\n",
              "    <tr>\n",
              "      <th>43</th>\n",
              "      <td>-117.27</td>\n",
              "      <td>34.09</td>\n",
              "      <td>36.0</td>\n",
              "      <td>848.0</td>\n",
              "      <td>186.0</td>\n",
              "      <td>737.0</td>\n",
              "      <td>169.0</td>\n",
              "      <td>0.9838</td>\n",
              "      <td>79300.0</td>\n",
              "    </tr>\n",
              "    <tr>\n",
              "      <th>54</th>\n",
              "      <td>-117.90</td>\n",
              "      <td>34.09</td>\n",
              "      <td>39.0</td>\n",
              "      <td>1726.0</td>\n",
              "      <td>333.0</td>\n",
              "      <td>892.0</td>\n",
              "      <td>335.0</td>\n",
              "      <td>4.3409</td>\n",
              "      <td>191800.0</td>\n",
              "    </tr>\n",
              "    <tr>\n",
              "      <th>68</th>\n",
              "      <td>-117.46</td>\n",
              "      <td>34.08</td>\n",
              "      <td>18.0</td>\n",
              "      <td>3830.0</td>\n",
              "      <td>750.0</td>\n",
              "      <td>2767.0</td>\n",
              "      <td>702.0</td>\n",
              "      <td>3.6602</td>\n",
              "      <td>120700.0</td>\n",
              "    </tr>\n",
              "    <tr>\n",
              "      <th>129</th>\n",
              "      <td>-117.19</td>\n",
              "      <td>34.03</td>\n",
              "      <td>25.0</td>\n",
              "      <td>2513.0</td>\n",
              "      <td>340.0</td>\n",
              "      <td>900.0</td>\n",
              "      <td>320.0</td>\n",
              "      <td>6.4962</td>\n",
              "      <td>182400.0</td>\n",
              "    </tr>\n",
              "    <tr>\n",
              "      <th>140</th>\n",
              "      <td>-117.39</td>\n",
              "      <td>34.10</td>\n",
              "      <td>12.0</td>\n",
              "      <td>7184.0</td>\n",
              "      <td>1516.0</td>\n",
              "      <td>4862.0</td>\n",
              "      <td>1235.0</td>\n",
              "      <td>2.4492</td>\n",
              "      <td>103800.0</td>\n",
              "    </tr>\n",
              "    <tr>\n",
              "      <th>...</th>\n",
              "      <td>...</td>\n",
              "      <td>...</td>\n",
              "      <td>...</td>\n",
              "      <td>...</td>\n",
              "      <td>...</td>\n",
              "      <td>...</td>\n",
              "      <td>...</td>\n",
              "      <td>...</td>\n",
              "      <td>...</td>\n",
              "    </tr>\n",
              "    <tr>\n",
              "      <th>2914</th>\n",
              "      <td>-117.06</td>\n",
              "      <td>34.87</td>\n",
              "      <td>14.0</td>\n",
              "      <td>3348.0</td>\n",
              "      <td>619.0</td>\n",
              "      <td>1756.0</td>\n",
              "      <td>557.0</td>\n",
              "      <td>3.5987</td>\n",
              "      <td>91400.0</td>\n",
              "    </tr>\n",
              "    <tr>\n",
              "      <th>2935</th>\n",
              "      <td>-117.97</td>\n",
              "      <td>34.05</td>\n",
              "      <td>33.0</td>\n",
              "      <td>1452.0</td>\n",
              "      <td>268.0</td>\n",
              "      <td>1274.0</td>\n",
              "      <td>278.0</td>\n",
              "      <td>3.6563</td>\n",
              "      <td>162700.0</td>\n",
              "    </tr>\n",
              "    <tr>\n",
              "      <th>2979</th>\n",
              "      <td>-117.91</td>\n",
              "      <td>34.09</td>\n",
              "      <td>20.0</td>\n",
              "      <td>4327.0</td>\n",
              "      <td>1037.0</td>\n",
              "      <td>2296.0</td>\n",
              "      <td>963.0</td>\n",
              "      <td>3.0441</td>\n",
              "      <td>185400.0</td>\n",
              "    </tr>\n",
              "    <tr>\n",
              "      <th>2991</th>\n",
              "      <td>-117.17</td>\n",
              "      <td>34.28</td>\n",
              "      <td>13.0</td>\n",
              "      <td>4867.0</td>\n",
              "      <td>718.0</td>\n",
              "      <td>780.0</td>\n",
              "      <td>250.0</td>\n",
              "      <td>7.1997</td>\n",
              "      <td>253800.0</td>\n",
              "    </tr>\n",
              "    <tr>\n",
              "      <th>2998</th>\n",
              "      <td>-117.12</td>\n",
              "      <td>34.10</td>\n",
              "      <td>40.0</td>\n",
              "      <td>96.0</td>\n",
              "      <td>14.0</td>\n",
              "      <td>46.0</td>\n",
              "      <td>14.0</td>\n",
              "      <td>3.2708</td>\n",
              "      <td>162500.0</td>\n",
              "    </tr>\n",
              "  </tbody>\n",
              "</table>\n",
              "<p>182 rows × 9 columns</p>\n",
              "</div>\n",
              "    <div class=\"colab-df-buttons\">\n",
              "\n",
              "  <div class=\"colab-df-container\">\n",
              "    <button class=\"colab-df-convert\" onclick=\"convertToInteractive('df-9c4ae29d-7687-4fc6-aab0-64bfbff95a23')\"\n",
              "            title=\"Convert this dataframe to an interactive table.\"\n",
              "            style=\"display:none;\">\n",
              "\n",
              "  <svg xmlns=\"http://www.w3.org/2000/svg\" height=\"24px\" viewBox=\"0 -960 960 960\">\n",
              "    <path d=\"M120-120v-720h720v720H120Zm60-500h600v-160H180v160Zm220 220h160v-160H400v160Zm0 220h160v-160H400v160ZM180-400h160v-160H180v160Zm440 0h160v-160H620v160ZM180-180h160v-160H180v160Zm440 0h160v-160H620v160Z\"/>\n",
              "  </svg>\n",
              "    </button>\n",
              "\n",
              "  <style>\n",
              "    .colab-df-container {\n",
              "      display:flex;\n",
              "      gap: 12px;\n",
              "    }\n",
              "\n",
              "    .colab-df-convert {\n",
              "      background-color: #E8F0FE;\n",
              "      border: none;\n",
              "      border-radius: 50%;\n",
              "      cursor: pointer;\n",
              "      display: none;\n",
              "      fill: #1967D2;\n",
              "      height: 32px;\n",
              "      padding: 0 0 0 0;\n",
              "      width: 32px;\n",
              "    }\n",
              "\n",
              "    .colab-df-convert:hover {\n",
              "      background-color: #E2EBFA;\n",
              "      box-shadow: 0px 1px 2px rgba(60, 64, 67, 0.3), 0px 1px 3px 1px rgba(60, 64, 67, 0.15);\n",
              "      fill: #174EA6;\n",
              "    }\n",
              "\n",
              "    .colab-df-buttons div {\n",
              "      margin-bottom: 4px;\n",
              "    }\n",
              "\n",
              "    [theme=dark] .colab-df-convert {\n",
              "      background-color: #3B4455;\n",
              "      fill: #D2E3FC;\n",
              "    }\n",
              "\n",
              "    [theme=dark] .colab-df-convert:hover {\n",
              "      background-color: #434B5C;\n",
              "      box-shadow: 0px 1px 3px 1px rgba(0, 0, 0, 0.15);\n",
              "      filter: drop-shadow(0px 1px 2px rgba(0, 0, 0, 0.3));\n",
              "      fill: #FFFFFF;\n",
              "    }\n",
              "  </style>\n",
              "\n",
              "    <script>\n",
              "      const buttonEl =\n",
              "        document.querySelector('#df-9c4ae29d-7687-4fc6-aab0-64bfbff95a23 button.colab-df-convert');\n",
              "      buttonEl.style.display =\n",
              "        google.colab.kernel.accessAllowed ? 'block' : 'none';\n",
              "\n",
              "      async function convertToInteractive(key) {\n",
              "        const element = document.querySelector('#df-9c4ae29d-7687-4fc6-aab0-64bfbff95a23');\n",
              "        const dataTable =\n",
              "          await google.colab.kernel.invokeFunction('convertToInteractive',\n",
              "                                                    [key], {});\n",
              "        if (!dataTable) return;\n",
              "\n",
              "        const docLinkHtml = 'Like what you see? Visit the ' +\n",
              "          '<a target=\"_blank\" href=https://colab.research.google.com/notebooks/data_table.ipynb>data table notebook</a>'\n",
              "          + ' to learn more about interactive tables.';\n",
              "        element.innerHTML = '';\n",
              "        dataTable['output_type'] = 'display_data';\n",
              "        await google.colab.output.renderOutput(dataTable, element);\n",
              "        const docLink = document.createElement('div');\n",
              "        docLink.innerHTML = docLinkHtml;\n",
              "        element.appendChild(docLink);\n",
              "      }\n",
              "    </script>\n",
              "  </div>\n",
              "\n",
              "\n",
              "    <div id=\"df-8c78d48d-0d31-4c26-a926-72e797ff6f4b\">\n",
              "      <button class=\"colab-df-quickchart\" onclick=\"quickchart('df-8c78d48d-0d31-4c26-a926-72e797ff6f4b')\"\n",
              "                title=\"Suggest charts\"\n",
              "                style=\"display:none;\">\n",
              "\n",
              "<svg xmlns=\"http://www.w3.org/2000/svg\" height=\"24px\"viewBox=\"0 0 24 24\"\n",
              "     width=\"24px\">\n",
              "    <g>\n",
              "        <path d=\"M19 3H5c-1.1 0-2 .9-2 2v14c0 1.1.9 2 2 2h14c1.1 0 2-.9 2-2V5c0-1.1-.9-2-2-2zM9 17H7v-7h2v7zm4 0h-2V7h2v10zm4 0h-2v-4h2v4z\"/>\n",
              "    </g>\n",
              "</svg>\n",
              "      </button>\n",
              "\n",
              "<style>\n",
              "  .colab-df-quickchart {\n",
              "      --bg-color: #E8F0FE;\n",
              "      --fill-color: #1967D2;\n",
              "      --hover-bg-color: #E2EBFA;\n",
              "      --hover-fill-color: #174EA6;\n",
              "      --disabled-fill-color: #AAA;\n",
              "      --disabled-bg-color: #DDD;\n",
              "  }\n",
              "\n",
              "  [theme=dark] .colab-df-quickchart {\n",
              "      --bg-color: #3B4455;\n",
              "      --fill-color: #D2E3FC;\n",
              "      --hover-bg-color: #434B5C;\n",
              "      --hover-fill-color: #FFFFFF;\n",
              "      --disabled-bg-color: #3B4455;\n",
              "      --disabled-fill-color: #666;\n",
              "  }\n",
              "\n",
              "  .colab-df-quickchart {\n",
              "    background-color: var(--bg-color);\n",
              "    border: none;\n",
              "    border-radius: 50%;\n",
              "    cursor: pointer;\n",
              "    display: none;\n",
              "    fill: var(--fill-color);\n",
              "    height: 32px;\n",
              "    padding: 0;\n",
              "    width: 32px;\n",
              "  }\n",
              "\n",
              "  .colab-df-quickchart:hover {\n",
              "    background-color: var(--hover-bg-color);\n",
              "    box-shadow: 0 1px 2px rgba(60, 64, 67, 0.3), 0 1px 3px 1px rgba(60, 64, 67, 0.15);\n",
              "    fill: var(--button-hover-fill-color);\n",
              "  }\n",
              "\n",
              "  .colab-df-quickchart-complete:disabled,\n",
              "  .colab-df-quickchart-complete:disabled:hover {\n",
              "    background-color: var(--disabled-bg-color);\n",
              "    fill: var(--disabled-fill-color);\n",
              "    box-shadow: none;\n",
              "  }\n",
              "\n",
              "  .colab-df-spinner {\n",
              "    border: 2px solid var(--fill-color);\n",
              "    border-color: transparent;\n",
              "    border-bottom-color: var(--fill-color);\n",
              "    animation:\n",
              "      spin 1s steps(1) infinite;\n",
              "  }\n",
              "\n",
              "  @keyframes spin {\n",
              "    0% {\n",
              "      border-color: transparent;\n",
              "      border-bottom-color: var(--fill-color);\n",
              "      border-left-color: var(--fill-color);\n",
              "    }\n",
              "    20% {\n",
              "      border-color: transparent;\n",
              "      border-left-color: var(--fill-color);\n",
              "      border-top-color: var(--fill-color);\n",
              "    }\n",
              "    30% {\n",
              "      border-color: transparent;\n",
              "      border-left-color: var(--fill-color);\n",
              "      border-top-color: var(--fill-color);\n",
              "      border-right-color: var(--fill-color);\n",
              "    }\n",
              "    40% {\n",
              "      border-color: transparent;\n",
              "      border-right-color: var(--fill-color);\n",
              "      border-top-color: var(--fill-color);\n",
              "    }\n",
              "    60% {\n",
              "      border-color: transparent;\n",
              "      border-right-color: var(--fill-color);\n",
              "    }\n",
              "    80% {\n",
              "      border-color: transparent;\n",
              "      border-right-color: var(--fill-color);\n",
              "      border-bottom-color: var(--fill-color);\n",
              "    }\n",
              "    90% {\n",
              "      border-color: transparent;\n",
              "      border-bottom-color: var(--fill-color);\n",
              "    }\n",
              "  }\n",
              "</style>\n",
              "\n",
              "      <script>\n",
              "        async function quickchart(key) {\n",
              "          const quickchartButtonEl =\n",
              "            document.querySelector('#' + key + ' button');\n",
              "          quickchartButtonEl.disabled = true;  // To prevent multiple clicks.\n",
              "          quickchartButtonEl.classList.add('colab-df-spinner');\n",
              "          try {\n",
              "            const charts = await google.colab.kernel.invokeFunction(\n",
              "                'suggestCharts', [key], {});\n",
              "          } catch (error) {\n",
              "            console.error('Error during call to suggestCharts:', error);\n",
              "          }\n",
              "          quickchartButtonEl.classList.remove('colab-df-spinner');\n",
              "          quickchartButtonEl.classList.add('colab-df-quickchart-complete');\n",
              "        }\n",
              "        (() => {\n",
              "          let quickchartButtonEl =\n",
              "            document.querySelector('#df-8c78d48d-0d31-4c26-a926-72e797ff6f4b button');\n",
              "          quickchartButtonEl.style.display =\n",
              "            google.colab.kernel.accessAllowed ? 'block' : 'none';\n",
              "        })();\n",
              "      </script>\n",
              "    </div>\n",
              "\n",
              "    </div>\n",
              "  </div>\n"
            ],
            "application/vnd.google.colaboratory.intrinsic+json": {
              "type": "dataframe",
              "summary": "{\n  \"name\": \"#print(df[\\\"median_income\\\"] >= 4) & (df[\\\"median_house_value\\\"]>=250)\",\n  \"rows\": 182,\n  \"fields\": [\n    {\n      \"column\": \"longitude\",\n      \"properties\": {\n        \"dtype\": \"number\",\n        \"std\": 0.3568577406027648,\n        \"min\": -117.99,\n        \"max\": -116.0,\n        \"num_unique_values\": 78,\n        \"samples\": [\n          -117.4,\n          -117.27,\n          -117.13\n        ],\n        \"semantic_type\": \"\",\n        \"description\": \"\"\n      }\n    },\n    {\n      \"column\": \"latitude\",\n      \"properties\": {\n        \"dtype\": \"number\",\n        \"std\": 0.3466260178637684,\n        \"min\": 34.0,\n        \"max\": 36.95,\n        \"num_unique_values\": 45,\n        \"samples\": [\n          34.34,\n          34.18,\n          34.5\n        ],\n        \"semantic_type\": \"\",\n        \"description\": \"\"\n      }\n    },\n    {\n      \"column\": \"housing_median_age\",\n      \"properties\": {\n        \"dtype\": \"number\",\n        \"std\": 11.815775957239433,\n        \"min\": 1.0,\n        \"max\": 52.0,\n        \"num_unique_values\": 48,\n        \"samples\": [\n          5.0,\n          3.0,\n          14.0\n        ],\n        \"semantic_type\": \"\",\n        \"description\": \"\"\n      }\n    },\n    {\n      \"column\": \"total_rooms\",\n      \"properties\": {\n        \"dtype\": \"number\",\n        \"std\": 2252.289856215642,\n        \"min\": 60.0,\n        \"max\": 12806.0,\n        \"num_unique_values\": 181,\n        \"samples\": [\n          1485.0,\n          2405.0,\n          4641.0\n        ],\n        \"semantic_type\": \"\",\n        \"description\": \"\"\n      }\n    },\n    {\n      \"column\": \"total_bedrooms\",\n      \"properties\": {\n        \"dtype\": \"number\",\n        \"std\": 422.8279007720528,\n        \"min\": 11.0,\n        \"max\": 2426.0,\n        \"num_unique_values\": 167,\n        \"samples\": [\n          219.0,\n          497.0,\n          1033.0\n        ],\n        \"semantic_type\": \"\",\n        \"description\": \"\"\n      }\n    },\n    {\n      \"column\": \"population\",\n      \"properties\": {\n        \"dtype\": \"number\",\n        \"std\": 1337.8702977760215,\n        \"min\": 27.0,\n        \"max\": 11139.0,\n        \"num_unique_values\": 178,\n        \"samples\": [\n          623.0,\n          1245.0,\n          1187.0\n        ],\n        \"semantic_type\": \"\",\n        \"description\": \"\"\n      }\n    },\n    {\n      \"column\": \"households\",\n      \"properties\": {\n        \"dtype\": \"number\",\n        \"std\": 359.00758931172095,\n        \"min\": 12.0,\n        \"max\": 2230.0,\n        \"num_unique_values\": 168,\n        \"samples\": [\n          1187.0,\n          737.0,\n          1680.0\n        ],\n        \"semantic_type\": \"\",\n        \"description\": \"\"\n      }\n    },\n    {\n      \"column\": \"median_income\",\n      \"properties\": {\n        \"dtype\": \"number\",\n        \"std\": 1.4519442964371212,\n        \"min\": 0.9838,\n        \"max\": 8.2827,\n        \"num_unique_values\": 177,\n        \"samples\": [\n          3.3036,\n          3.2969,\n          4.4625\n        ],\n        \"semantic_type\": \"\",\n        \"description\": \"\"\n      }\n    },\n    {\n      \"column\": \"median_house_value\",\n      \"properties\": {\n        \"dtype\": \"number\",\n        \"std\": 73532.87681034087,\n        \"min\": 39800.0,\n        \"max\": 500001.0,\n        \"num_unique_values\": 165,\n        \"samples\": [\n          135800.0,\n          170900.0,\n          154200.0\n        ],\n        \"semantic_type\": \"\",\n        \"description\": \"\"\n      }\n    }\n  ]\n}"
            }
          },
          "metadata": {},
          "execution_count": 7
        }
      ]
    },
    {
      "cell_type": "code",
      "source": [
        "selected_data = df.iloc[0:3, 1:3]\n",
        "print(selected_data)"
      ],
      "metadata": {
        "colab": {
          "base_uri": "https://localhost:8080/"
        },
        "id": "n6pizaK5vF2l",
        "outputId": "81dcc49d-f5c4-4f74-a9b2-dd20c0266448"
      },
      "execution_count": 8,
      "outputs": [
        {
          "output_type": "stream",
          "name": "stdout",
          "text": [
            "   latitude  housing_median_age\n",
            "0     37.37                27.0\n",
            "1     34.26                43.0\n",
            "2     33.78                27.0\n"
          ]
        }
      ]
    },
    {
      "cell_type": "code",
      "source": [
        "first_half = df.iloc[:len(df)//2]\n",
        "print(first_half)\n",
        "\n",
        "second_half = df.iloc[1500:]\n",
        "print(second_half)"
      ],
      "metadata": {
        "colab": {
          "base_uri": "https://localhost:8080/"
        },
        "id": "w9LJW0zPwK3Y",
        "outputId": "f23ad5de-7685-41a5-e310-41d63d0020b7"
      },
      "execution_count": 9,
      "outputs": [
        {
          "output_type": "stream",
          "name": "stdout",
          "text": [
            "      longitude  latitude  housing_median_age  total_rooms  total_bedrooms  \\\n",
            "0       -122.05     37.37                27.0       3885.0           661.0   \n",
            "1       -118.30     34.26                43.0       1510.0           310.0   \n",
            "2       -117.81     33.78                27.0       3589.0           507.0   \n",
            "3       -118.36     33.82                28.0         67.0            15.0   \n",
            "4       -119.67     36.33                19.0       1241.0           244.0   \n",
            "...         ...       ...                 ...          ...             ...   \n",
            "1495    -121.92     36.63                40.0       1076.0           193.0   \n",
            "1496    -120.44     37.31                16.0       3369.0           532.0   \n",
            "1497    -117.18     32.70                44.0       2655.0           514.0   \n",
            "1498    -121.57     39.12                30.0       2601.0           534.0   \n",
            "1499    -122.21     37.79                52.0        762.0           190.0   \n",
            "\n",
            "      population  households  median_income  median_house_value  \n",
            "0         1537.0       606.0         6.6085            344700.0  \n",
            "1          809.0       277.0         3.5990            176500.0  \n",
            "2         1484.0       495.0         5.7934            270500.0  \n",
            "3           49.0        11.0         6.1359            330000.0  \n",
            "4          850.0       237.0         2.9375             81700.0  \n",
            "...          ...         ...            ...                 ...  \n",
            "1495       406.0       180.0         3.4943            311100.0  \n",
            "1496      1770.0       574.0         5.2662            126200.0  \n",
            "1497      1102.0       489.0         3.6759            368800.0  \n",
            "1498      1702.0       506.0         2.0800             56600.0  \n",
            "1499       600.0       195.0         3.0893            125000.0  \n",
            "\n",
            "[1500 rows x 9 columns]\n",
            "      longitude  latitude  housing_median_age  total_rooms  total_bedrooms  \\\n",
            "1500    -118.91     35.30                28.0       1793.0           358.0   \n",
            "1501    -121.95     37.32                20.0       1145.0           198.0   \n",
            "1502    -121.35     38.68                20.0       7085.0          1222.0   \n",
            "1503    -121.28     38.76                47.0       2901.0           631.0   \n",
            "1504    -118.35     33.89                30.0       1143.0           299.0   \n",
            "...         ...       ...                 ...          ...             ...   \n",
            "2995    -119.86     34.42                23.0       1450.0           642.0   \n",
            "2996    -118.14     34.06                27.0       5257.0          1082.0   \n",
            "2997    -119.70     36.30                10.0        956.0           201.0   \n",
            "2998    -117.12     34.10                40.0         96.0            14.0   \n",
            "2999    -119.63     34.42                42.0       1765.0           263.0   \n",
            "\n",
            "      population  households  median_income  median_house_value  \n",
            "1500      1233.0       351.0         2.7845             82200.0  \n",
            "1501       431.0       173.0         3.1103            281900.0  \n",
            "1502      3455.0      1229.0         4.3118            120000.0  \n",
            "1503      1276.0       578.0         2.1366            101900.0  \n",
            "1504       776.0       273.0         4.2829            240000.0  \n",
            "...          ...         ...            ...                 ...  \n",
            "2995      1258.0       607.0         1.1790            225000.0  \n",
            "2996      3496.0      1036.0         3.3906            237200.0  \n",
            "2997       693.0       220.0         2.2895             62000.0  \n",
            "2998        46.0        14.0         3.2708            162500.0  \n",
            "2999       753.0       260.0         8.5608            500001.0  \n",
            "\n",
            "[1500 rows x 9 columns]\n"
          ]
        }
      ]
    },
    {
      "cell_type": "code",
      "source": [
        "df['housing_median_age_month'] = df['housing_median_age'] * 12\n",
        "\n",
        "print(df.head())"
      ],
      "metadata": {
        "colab": {
          "base_uri": "https://localhost:8080/"
        },
        "id": "g1EWKFt9QCI8",
        "outputId": "a911c9f1-1746-463d-f9ac-2aef157d818e"
      },
      "execution_count": 10,
      "outputs": [
        {
          "output_type": "stream",
          "name": "stdout",
          "text": [
            "   longitude  latitude  housing_median_age  total_rooms  total_bedrooms  \\\n",
            "0    -122.05     37.37                27.0       3885.0           661.0   \n",
            "1    -118.30     34.26                43.0       1510.0           310.0   \n",
            "2    -117.81     33.78                27.0       3589.0           507.0   \n",
            "3    -118.36     33.82                28.0         67.0            15.0   \n",
            "4    -119.67     36.33                19.0       1241.0           244.0   \n",
            "\n",
            "   population  households  median_income  median_house_value  \\\n",
            "0      1537.0       606.0         6.6085            344700.0   \n",
            "1       809.0       277.0         3.5990            176500.0   \n",
            "2      1484.0       495.0         5.7934            270500.0   \n",
            "3        49.0        11.0         6.1359            330000.0   \n",
            "4       850.0       237.0         2.9375             81700.0   \n",
            "\n",
            "   housing_median_age_month  \n",
            "0                     324.0  \n",
            "1                     516.0  \n",
            "2                     324.0  \n",
            "3                     336.0  \n",
            "4                     228.0  \n"
          ]
        }
      ]
    },
    {
      "cell_type": "code",
      "source": [
        "print(df.head())\n",
        "#두 DataFrame을 세로로(concatenate) 합치기\n",
        "data_add = {\n",
        "    \"longitude\" : -125,\n",
        "    \"latitue\" : 38,\n",
        "    \"housing median_age\" : 30\n",
        "    }\n",
        "df_add = pd.DataFrame(data_add,[0])\n",
        "print(df_add.head())\n",
        "\n",
        "df = pd.concat([df, df_add], ignore_index=True)\n",
        "\n",
        "print(df)\n"
      ],
      "metadata": {
        "colab": {
          "base_uri": "https://localhost:8080/"
        },
        "id": "s_vZiKx4ke46",
        "outputId": "6e90991b-99e4-448f-e4bf-9edba1928c46"
      },
      "execution_count": 11,
      "outputs": [
        {
          "output_type": "stream",
          "name": "stdout",
          "text": [
            "   longitude  latitude  housing_median_age  total_rooms  total_bedrooms  \\\n",
            "0    -122.05     37.37                27.0       3885.0           661.0   \n",
            "1    -118.30     34.26                43.0       1510.0           310.0   \n",
            "2    -117.81     33.78                27.0       3589.0           507.0   \n",
            "3    -118.36     33.82                28.0         67.0            15.0   \n",
            "4    -119.67     36.33                19.0       1241.0           244.0   \n",
            "\n",
            "   population  households  median_income  median_house_value  \\\n",
            "0      1537.0       606.0         6.6085            344700.0   \n",
            "1       809.0       277.0         3.5990            176500.0   \n",
            "2      1484.0       495.0         5.7934            270500.0   \n",
            "3        49.0        11.0         6.1359            330000.0   \n",
            "4       850.0       237.0         2.9375             81700.0   \n",
            "\n",
            "   housing_median_age_month  \n",
            "0                     324.0  \n",
            "1                     516.0  \n",
            "2                     324.0  \n",
            "3                     336.0  \n",
            "4                     228.0  \n",
            "   longitude  latitue  housing median_age\n",
            "0       -125       38                  30\n",
            "      longitude  latitude  housing_median_age  total_rooms  total_bedrooms  \\\n",
            "0       -122.05     37.37                27.0       3885.0           661.0   \n",
            "1       -118.30     34.26                43.0       1510.0           310.0   \n",
            "2       -117.81     33.78                27.0       3589.0           507.0   \n",
            "3       -118.36     33.82                28.0         67.0            15.0   \n",
            "4       -119.67     36.33                19.0       1241.0           244.0   \n",
            "...         ...       ...                 ...          ...             ...   \n",
            "2996    -118.14     34.06                27.0       5257.0          1082.0   \n",
            "2997    -119.70     36.30                10.0        956.0           201.0   \n",
            "2998    -117.12     34.10                40.0         96.0            14.0   \n",
            "2999    -119.63     34.42                42.0       1765.0           263.0   \n",
            "3000    -125.00       NaN                 NaN          NaN             NaN   \n",
            "\n",
            "      population  households  median_income  median_house_value  \\\n",
            "0         1537.0       606.0         6.6085            344700.0   \n",
            "1          809.0       277.0         3.5990            176500.0   \n",
            "2         1484.0       495.0         5.7934            270500.0   \n",
            "3           49.0        11.0         6.1359            330000.0   \n",
            "4          850.0       237.0         2.9375             81700.0   \n",
            "...          ...         ...            ...                 ...   \n",
            "2996      3496.0      1036.0         3.3906            237200.0   \n",
            "2997       693.0       220.0         2.2895             62000.0   \n",
            "2998        46.0        14.0         3.2708            162500.0   \n",
            "2999       753.0       260.0         8.5608            500001.0   \n",
            "3000         NaN         NaN            NaN                 NaN   \n",
            "\n",
            "      housing_median_age_month  latitue  housing median_age  \n",
            "0                        324.0      NaN                 NaN  \n",
            "1                        516.0      NaN                 NaN  \n",
            "2                        324.0      NaN                 NaN  \n",
            "3                        336.0      NaN                 NaN  \n",
            "4                        228.0      NaN                 NaN  \n",
            "...                        ...      ...                 ...  \n",
            "2996                     324.0      NaN                 NaN  \n",
            "2997                     120.0      NaN                 NaN  \n",
            "2998                     480.0      NaN                 NaN  \n",
            "2999                     504.0      NaN                 NaN  \n",
            "3000                       NaN     38.0                30.0  \n",
            "\n",
            "[3001 rows x 12 columns]\n"
          ]
        }
      ]
    },
    {
      "cell_type": "code",
      "source": [
        "df['categorical'] = 'A'\n",
        "print(df.describe())\n",
        "print(df.describe(include='all'))\n",
        "print(df.info())\n",
        "\n",
        "missing_values = df.isnull().sum()\n",
        "print(missing_values)\n",
        "\n",
        "#print(df.loc[df['new_column'].isnull()])"
      ],
      "metadata": {
        "colab": {
          "base_uri": "https://localhost:8080/"
        },
        "id": "_-Wc944LZYFc",
        "outputId": "a831f9bb-9e6c-4107-8157-eb364554944d"
      },
      "execution_count": 35,
      "outputs": [
        {
          "output_type": "stream",
          "name": "stdout",
          "text": [
            "         longitude    latitude  housing_median_age   total_rooms  \\\n",
            "count  3001.000000  3000.00000         3000.000000   3000.000000   \n",
            "mean   -119.591003    35.63539           28.845333   2599.578667   \n",
            "std       1.997048     2.12967           12.555396   2155.593332   \n",
            "min    -125.000000    32.56000            1.000000      6.000000   \n",
            "25%    -121.810000    33.93000           18.000000   1401.000000   \n",
            "50%    -118.490000    34.27000           29.000000   2106.000000   \n",
            "75%    -118.020000    37.69000           37.000000   3129.000000   \n",
            "max    -114.490000    41.92000           52.000000  30450.000000   \n",
            "\n",
            "       total_bedrooms    population  households  median_income  \\\n",
            "count     3000.000000   3000.000000  3000.00000    3000.000000   \n",
            "mean       529.950667   1402.798667   489.91200       3.807272   \n",
            "std        415.654368   1030.543012   365.42271       1.854512   \n",
            "min          2.000000      5.000000     2.00000       0.499900   \n",
            "25%        291.000000    780.000000   273.00000       2.544000   \n",
            "50%        437.000000   1155.000000   409.50000       3.487150   \n",
            "75%        636.000000   1742.750000   597.25000       4.656475   \n",
            "max       5419.000000  11935.000000  4930.00000      15.000100   \n",
            "\n",
            "       median_house_value  housing_median_age_month  latitue  \\\n",
            "count          3000.00000               3000.000000      1.0   \n",
            "mean         205846.27500                346.144000     38.0   \n",
            "std          113119.68747                150.664747      NaN   \n",
            "min           22500.00000                 12.000000     38.0   \n",
            "25%          121200.00000                216.000000     38.0   \n",
            "50%          177650.00000                348.000000     38.0   \n",
            "75%          263975.00000                444.000000     38.0   \n",
            "max          500001.00000                624.000000     38.0   \n",
            "\n",
            "       housing median_age  \n",
            "count                 1.0  \n",
            "mean                 30.0  \n",
            "std                   NaN  \n",
            "min                  30.0  \n",
            "25%                  30.0  \n",
            "50%                  30.0  \n",
            "75%                  30.0  \n",
            "max                  30.0  \n",
            "          longitude    latitude  housing_median_age   total_rooms  \\\n",
            "count   3001.000000  3000.00000         3000.000000   3000.000000   \n",
            "unique          NaN         NaN                 NaN           NaN   \n",
            "top             NaN         NaN                 NaN           NaN   \n",
            "freq            NaN         NaN                 NaN           NaN   \n",
            "mean    -119.591003    35.63539           28.845333   2599.578667   \n",
            "std        1.997048     2.12967           12.555396   2155.593332   \n",
            "min     -125.000000    32.56000            1.000000      6.000000   \n",
            "25%     -121.810000    33.93000           18.000000   1401.000000   \n",
            "50%     -118.490000    34.27000           29.000000   2106.000000   \n",
            "75%     -118.020000    37.69000           37.000000   3129.000000   \n",
            "max     -114.490000    41.92000           52.000000  30450.000000   \n",
            "\n",
            "        total_bedrooms    population  households  median_income  \\\n",
            "count      3000.000000   3000.000000  3000.00000    3000.000000   \n",
            "unique             NaN           NaN         NaN            NaN   \n",
            "top                NaN           NaN         NaN            NaN   \n",
            "freq               NaN           NaN         NaN            NaN   \n",
            "mean        529.950667   1402.798667   489.91200       3.807272   \n",
            "std         415.654368   1030.543012   365.42271       1.854512   \n",
            "min           2.000000      5.000000     2.00000       0.499900   \n",
            "25%         291.000000    780.000000   273.00000       2.544000   \n",
            "50%         437.000000   1155.000000   409.50000       3.487150   \n",
            "75%         636.000000   1742.750000   597.25000       4.656475   \n",
            "max        5419.000000  11935.000000  4930.00000      15.000100   \n",
            "\n",
            "        median_house_value  housing_median_age_month  latitue  \\\n",
            "count           3000.00000               3000.000000      1.0   \n",
            "unique                 NaN                       NaN      NaN   \n",
            "top                    NaN                       NaN      NaN   \n",
            "freq                   NaN                       NaN      NaN   \n",
            "mean          205846.27500                346.144000     38.0   \n",
            "std           113119.68747                150.664747      NaN   \n",
            "min            22500.00000                 12.000000     38.0   \n",
            "25%           121200.00000                216.000000     38.0   \n",
            "50%           177650.00000                348.000000     38.0   \n",
            "75%           263975.00000                444.000000     38.0   \n",
            "max           500001.00000                624.000000     38.0   \n",
            "\n",
            "        housing median_age categorical  \n",
            "count                  1.0        3001  \n",
            "unique                 NaN           1  \n",
            "top                    NaN           A  \n",
            "freq                   NaN        3001  \n",
            "mean                  30.0         NaN  \n",
            "std                    NaN         NaN  \n",
            "min                   30.0         NaN  \n",
            "25%                   30.0         NaN  \n",
            "50%                   30.0         NaN  \n",
            "75%                   30.0         NaN  \n",
            "max                   30.0         NaN  \n",
            "<class 'pandas.core.frame.DataFrame'>\n",
            "RangeIndex: 3001 entries, 0 to 3000\n",
            "Data columns (total 13 columns):\n",
            " #   Column                    Non-Null Count  Dtype  \n",
            "---  ------                    --------------  -----  \n",
            " 0   longitude                 3001 non-null   float64\n",
            " 1   latitude                  3000 non-null   float64\n",
            " 2   housing_median_age        3000 non-null   float64\n",
            " 3   total_rooms               3000 non-null   float64\n",
            " 4   total_bedrooms            3000 non-null   float64\n",
            " 5   population                3000 non-null   float64\n",
            " 6   households                3000 non-null   float64\n",
            " 7   median_income             3000 non-null   float64\n",
            " 8   median_house_value        3000 non-null   float64\n",
            " 9   housing_median_age_month  3000 non-null   float64\n",
            " 10  latitue                   1 non-null      float64\n",
            " 11  housing median_age        1 non-null      float64\n",
            " 12  categorical               3001 non-null   object \n",
            "dtypes: float64(12), object(1)\n",
            "memory usage: 304.9+ KB\n",
            "None\n",
            "longitude                      0\n",
            "latitude                       1\n",
            "housing_median_age             1\n",
            "total_rooms                    1\n",
            "total_bedrooms                 1\n",
            "population                     1\n",
            "households                     1\n",
            "median_income                  1\n",
            "median_house_value             1\n",
            "housing_median_age_month       1\n",
            "latitue                     3000\n",
            "housing median_age          3000\n",
            "categorical                    0\n",
            "dtype: int64\n"
          ]
        }
      ]
    },
    {
      "cell_type": "code",
      "source": [
        "print(df['population'].isnull().sum())"
      ],
      "metadata": {
        "colab": {
          "base_uri": "https://localhost:8080/"
        },
        "id": "yJRm-B_PeJzf",
        "outputId": "f7d26b3e-6193-42c8-c33c-da5c99215a5b"
      },
      "execution_count": 37,
      "outputs": [
        {
          "output_type": "stream",
          "name": "stdout",
          "text": [
            "1\n"
          ]
        }
      ]
    },
    {
      "cell_type": "code",
      "source": [
        "\n",
        "#두 DataFrame을 가로로(concatenate) 합치기\n",
        "df1 = pd.DataFrame({'A' :['A0','A1'], 'B':['B0','B1']})\n",
        "print(df1)\n",
        "print()\n",
        "\n",
        "df2 = pd.DataFrame({'A' :['A2', 'A3'], 'B':['B2','B3']})\n",
        "result = pd.concat([df1, df2], axis=1, ignore_index=False)\n",
        "print(result)"
      ],
      "metadata": {
        "colab": {
          "base_uri": "https://localhost:8080/"
        },
        "id": "lJ4vCEwppJb_",
        "outputId": "5f0de430-f0f8-4b4a-8f62-3bb56fbd43a8"
      },
      "execution_count": 12,
      "outputs": [
        {
          "output_type": "stream",
          "name": "stdout",
          "text": [
            "    A   B\n",
            "0  A0  B0\n",
            "1  A1  B1\n",
            "\n",
            "    A   B   A   B\n",
            "0  A0  B0  A2  B2\n",
            "1  A1  B1  A3  B3\n"
          ]
        }
      ]
    },
    {
      "cell_type": "code",
      "source": [
        "df_a = pd.DataFrame( {'A': [1, 2, 3], 'B': [4, 5, 6]} )\n",
        "df_b = pd.DataFrame( {'A':[7, 8, 9, 10], 'C':[10, 11, 12, 13]} )\n",
        "\n",
        "df_c = pd.concat([df_a, df_b], axis=1, ignore_index=False)\n",
        "print(df_c)\n",
        "#결측값 Not a Number 이 생기면 안됨, 항상 신경 써야 함."
      ],
      "metadata": {
        "colab": {
          "base_uri": "https://localhost:8080/"
        },
        "id": "fSlStRarqSDV",
        "outputId": "90f082c0-8102-4925-ac6e-b1446a0e15c9"
      },
      "execution_count": 13,
      "outputs": [
        {
          "output_type": "stream",
          "name": "stdout",
          "text": [
            "     A    B   A   C\n",
            "0  1.0  4.0   7  10\n",
            "1  2.0  5.0   8  11\n",
            "2  3.0  6.0   9  12\n",
            "3  NaN  NaN  10  13\n"
          ]
        }
      ]
    },
    {
      "cell_type": "code",
      "source": [
        "#두 DataFrame을 'key' 열을 기준으로 병합(merge)\n",
        "left = pd.DataFrame({'key':['K0','K1','K2','K3'],'A':['A0','A1','A2','A3']})\n",
        "right = pd.DataFrame({'key':['K1','K2','K3','K4'],'B':['B0','B1','B2','B3']})\n",
        "merged_df = pd.merge(left, right, on='key') #how를 빼버리면 디폴트값이 Inner임\n",
        "print(merged_df) #Inner조인이기 때문에 key들의 교집합인 K1, K2, K3에 대해서만 출력\n"
      ],
      "metadata": {
        "colab": {
          "base_uri": "https://localhost:8080/"
        },
        "id": "rN8SXxk_JUSi",
        "outputId": "df387363-4d52-4e76-c2bf-3bbca9452b13"
      },
      "execution_count": 15,
      "outputs": [
        {
          "output_type": "stream",
          "name": "stdout",
          "text": [
            "  key   A   B\n",
            "0  K1  A1  B0\n",
            "1  K2  A2  B1\n",
            "2  K3  A3  B2\n"
          ]
        }
      ]
    },
    {
      "cell_type": "code",
      "source": [
        "#두 DataFrame을 'key'열을 기준으로 병합(merge)\n",
        "left = pd.DataFrame({'key':['K0','K1','K2','K3'],'A':['A0','A1','A2','A3']})\n",
        "right = pd.DataFrame({'key':['K1','K2','K3','K4'], 'B':['B0','B1','B2','B3']})\n",
        "merged_df = pd.merge(left, right, on='key', how='outer') # outer조인\n",
        "print(merged_df) # key들에 있는 K0, K1, K2, K3, K4를 전부 출력(결측값 2개 생김)"
      ],
      "metadata": {
        "colab": {
          "base_uri": "https://localhost:8080/"
        },
        "id": "jwkWJ4_pWCCi",
        "outputId": "9f7c37a7-2b58-4bc6-889a-23844e5d1ff6"
      },
      "execution_count": 17,
      "outputs": [
        {
          "output_type": "stream",
          "name": "stdout",
          "text": [
            "  key    A    B\n",
            "0  K0   A0  NaN\n",
            "1  K1   A1   B0\n",
            "2  K2   A2   B1\n",
            "3  K3   A3   B2\n",
            "4  K4  NaN   B3\n"
          ]
        }
      ]
    },
    {
      "cell_type": "code",
      "source": [
        "# 두 DataFrame을 'key' 열을 기준으로 병합(merge)\n",
        "left = pd.DataFrame({'key': ['K0','K1','K2','K3'], 'A': ['A0','A1','A2','A3'] })\n",
        "right = pd.DataFrame({'key': ['K1','K2','K3','K4'], 'A': ['B0','B1','B2','B3'] })\n",
        "merged_df = pd.merge(left, right, on='key', how='left') #왼쪽 조인\n",
        "print(merged_df) #K0,K1,K2,K3의 값에 대해서만 출력(결측값 1개 생김)"
      ],
      "metadata": {
        "colab": {
          "base_uri": "https://localhost:8080/"
        },
        "id": "GSpO3fbJXb6x",
        "outputId": "37807520-bb63-4710-f82f-666ef2c6b6ee"
      },
      "execution_count": 21,
      "outputs": [
        {
          "output_type": "stream",
          "name": "stdout",
          "text": [
            "  key A_x  A_y\n",
            "0  K0  A0  NaN\n",
            "1  K1  A1   B0\n",
            "2  K2  A2   B1\n",
            "3  K3  A3   B2\n"
          ]
        }
      ]
    },
    {
      "cell_type": "code",
      "source": [
        "# 두 DataFrame을 'key' 열을 기준으로 병합(merge)\n",
        "left = pd.DataFrame({'key': ['K0','K1','K2','K3'], 'A': ['A0','A1','A2','A3'] })\n",
        "right = pd.DataFrame({'key': ['K1','K2','K3','K4'], 'A': ['B0','B1','B2','B3'] })\n",
        "merged_df = pd.merge(left, right, on='key', how='right') #오른쪽 조인\n",
        "print(merged_df) #K1,K2,K3,K4의 값에 대해서만 출력(결측값 1개 생김)"
      ],
      "metadata": {
        "colab": {
          "base_uri": "https://localhost:8080/"
        },
        "id": "CkmNILU1Y7AB",
        "outputId": "38b658e8-a5f3-4344-916a-cbbcd9ac896d"
      },
      "execution_count": 22,
      "outputs": [
        {
          "output_type": "stream",
          "name": "stdout",
          "text": [
            "  key  A_x A_y\n",
            "0  K1   A1  B0\n",
            "1  K2   A2  B1\n",
            "2  K3   A3  B2\n",
            "3  K4  NaN  B3\n"
          ]
        }
      ]
    }
  ]
}